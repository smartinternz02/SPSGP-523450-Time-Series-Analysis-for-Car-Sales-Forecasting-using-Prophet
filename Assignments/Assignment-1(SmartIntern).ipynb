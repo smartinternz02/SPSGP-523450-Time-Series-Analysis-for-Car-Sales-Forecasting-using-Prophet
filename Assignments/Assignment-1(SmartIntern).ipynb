{
 "cells": [
  {
   "cell_type": "code",
   "execution_count": 2,
   "id": "05070a99",
   "metadata": {},
   "outputs": [],
   "source": [
    "#Nabin Kumar Upadhaya\n",
    "#20bci7231\n",
    "#nabin.20bci7231@vitap.ac.in"
   ]
  },
  {
   "cell_type": "code",
   "execution_count": 10,
   "id": "ddf1225c",
   "metadata": {},
   "outputs": [
    {
     "name": "stdout",
     "output_type": "stream",
     "text": [
      "   Feature 1  Feature 2  Feature 3  Feature 4\n",
      "0   0.768302   0.250305   0.443882   0.879545\n",
      "1   0.907867   0.912997   0.985338   0.983875\n",
      "2   0.169854   0.147388   0.804513   0.976665\n",
      "3   0.798617   0.313576   0.897209   0.076575\n"
     ]
    }
   ],
   "source": [
    "#Create a pandas dataframe (DataFrame name as 'df') with numpy random values (4 features and 4 observation)\n",
    "\n",
    "import numpy as np\n",
    "import pandas as pd\n",
    "\n",
    "data = np.random.rand(4, 4) \n",
    "df = pd.DataFrame(data, columns=['Feature 1', 'Feature 2', 'Feature 3', 'Feature 4'])\n",
    "\n",
    "print(df)\n"
   ]
  },
  {
   "cell_type": "code",
   "execution_count": 11,
   "id": "c690e72d",
   "metadata": {},
   "outputs": [
    {
     "name": "stdout",
     "output_type": "stream",
     "text": [
      "   Random value 1  Random value 2  Random value 3  Random value 4\n",
      "0        0.577967        0.810774        0.749439        0.391908\n",
      "1        0.026589        0.853221        0.251779        0.930418\n",
      "2        0.094900        0.693014        0.297999        0.948300\n",
      "3        0.971823        0.784879        0.638660        0.875449\n"
     ]
    }
   ],
   "source": [
    "import numpy as np\n",
    "import pandas as pd\n",
    "\n",
    "data = np.random.rand(4, 4)  \n",
    "df = pd.DataFrame(data, columns=['Feature 1', 'Feature 2', 'Feature 3', 'Feature 4'])\n",
    "\n",
    "# Renaming column names\n",
    "new_column_names = {\n",
    "    'Feature 1': 'Random value 1',\n",
    "    'Feature 2': 'Random value 2',\n",
    "    'Feature 3': 'Random value 3',\n",
    "    'Feature 4': 'Random value 4'\n",
    "}\n",
    "\n",
    "df = df.rename(columns=new_column_names)\n",
    "\n",
    "print(df)\n"
   ]
  },
  {
   "cell_type": "code",
   "execution_count": 12,
   "id": "7b4ae585",
   "metadata": {},
   "outputs": [
    {
     "name": "stdout",
     "output_type": "stream",
     "text": [
      "       Random value 1  Random value 2  Random value 3  Random value 4\n",
      "count        4.000000        4.000000        4.000000        4.000000\n",
      "mean         0.417820        0.785472        0.484469        0.786519\n",
      "std          0.443436        0.067771        0.246914        0.264894\n",
      "min          0.026589        0.693014        0.251779        0.391908\n",
      "25%          0.077822        0.761912        0.286444        0.754563\n",
      "50%          0.336433        0.797826        0.468329        0.902933\n",
      "75%          0.676431        0.821386        0.666355        0.934888\n",
      "max          0.971823        0.853221        0.749439        0.948300\n"
     ]
    }
   ],
   "source": [
    "import pandas as pd\n",
    "import numpy as np\n",
    "\n",
    "statistics = df.describe()\n",
    "\n",
    "print(statistics)\n"
   ]
  },
  {
   "cell_type": "code",
   "execution_count": 13,
   "id": "8c955ffd",
   "metadata": {},
   "outputs": [
    {
     "name": "stdout",
     "output_type": "stream",
     "text": [
      "Null Values:\n",
      "Random value 1    0\n",
      "Random value 2    0\n",
      "Random value 3    0\n",
      "Random value 4    0\n",
      "dtype: int64\n",
      "\n",
      "Data Types:\n",
      "Random value 1    float64\n",
      "Random value 2    float64\n",
      "Random value 3    float64\n",
      "Random value 4    float64\n",
      "dtype: object\n"
     ]
    }
   ],
   "source": [
    "import pandas as pd\n",
    "\n",
    "null_values = df.isnull().sum()\n",
    "\n",
    "print(\"Null Values:\")\n",
    "print(null_values)\n",
    "\n",
    "# Find data types of columns\n",
    "data_types = df.dtypes\n",
    "\n",
    "print(\"\\nData Types:\")\n",
    "print(data_types)\n"
   ]
  },
  {
   "cell_type": "code",
   "execution_count": 14,
   "id": "a75d5402",
   "metadata": {},
   "outputs": [
    {
     "name": "stdout",
     "output_type": "stream",
     "text": [
      "   Random value 2  Random value 3\n",
      "0        0.810774        0.749439\n",
      "1        0.853221        0.251779\n",
      "2        0.693014        0.297999\n",
      "3        0.784879        0.638660\n",
      "   Random value 2  Random value 3\n",
      "0        0.810774        0.749439\n",
      "1        0.853221        0.251779\n",
      "2        0.693014        0.297999\n",
      "3        0.784879        0.638660\n"
     ]
    }
   ],
   "source": [
    "import pandas as pd\n",
    "\n",
    "location_columns = df[['Random value 2', 'Random value 3']]\n",
    "print(location_columns)\n",
    "\n",
    "index_location_columns = df.iloc[:, 1:3]\n",
    "print(index_location_columns)\n"
   ]
  },
  {
   "cell_type": "code",
   "execution_count": null,
   "id": "386f169d",
   "metadata": {},
   "outputs": [],
   "source": []
  }
 ],
 "metadata": {
  "kernelspec": {
   "display_name": "Python 3 (ipykernel)",
   "language": "python",
   "name": "python3"
  },
  "language_info": {
   "codemirror_mode": {
    "name": "ipython",
    "version": 3
   },
   "file_extension": ".py",
   "mimetype": "text/x-python",
   "name": "python",
   "nbconvert_exporter": "python",
   "pygments_lexer": "ipython3",
   "version": "3.9.13"
  }
 },
 "nbformat": 4,
 "nbformat_minor": 5
}
